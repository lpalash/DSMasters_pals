{
 "cells": [
  {
   "cell_type": "code",
   "execution_count": null,
   "id": "d5b7f9f6-dc4e-47c4-997c-1e40f6ad7a30",
   "metadata": {},
   "outputs": [],
   "source": [
    "\n"
   ]
  },
  {
   "cell_type": "code",
   "execution_count": null,
   "id": "9167ade5-18f5-43e6-8ed8-e919540b193c",
   "metadata": {},
   "outputs": [],
   "source": [
    "   "
   ]
  },
  {
   "cell_type": "code",
   "execution_count": null,
   "id": "aad9e31a-f372-4287-a3ec-140a3975d1c5",
   "metadata": {},
   "outputs": [],
   "source": [
    "a =1\n",
    "b=2\n",
    "c=3\n",
    "age=int(input(\"enter your age\"))\n",
    "if age>=18 and age<=45:\n",
    "    print(\"You are young blood\")"
   ]
  },
  {
   "cell_type": "code",
   "execution_count": 6,
   "id": "81402ba9-e352-4d8e-a1c7-bf0c85b9230e",
   "metadata": {},
   "outputs": [
    {
     "data": {
      "text/plain": [
       "3"
      ]
     },
     "execution_count": 6,
     "metadata": {},
     "output_type": "execute_result"
    }
   ],
   "source": [
    "c"
   ]
  },
  {
   "cell_type": "markdown",
   "id": "b6c842ee-e678-4527-9b75-d5e24f1e4718",
   "metadata": {},
   "source": [
    "#When its Markdown  it will help us comment\n",
    "#muust have space after it to change the font"
   ]
  },
  {
   "cell_type": "markdown",
   "id": "a2ed5e5d-1881-447d-9391-b4a07caa1ba6",
   "metadata": {},
   "source": [
    "# to print type print(value)\n"
   ]
  },
  {
   "cell_type": "code",
   "execution_count": 11,
   "id": "1815f1dc-b1f6-4f8e-ac96-bf7b5dfccb54",
   "metadata": {},
   "outputs": [
    {
     "data": {
      "text/plain": [
       "23"
      ]
     },
     "execution_count": 11,
     "metadata": {},
     "output_type": "execute_result"
    }
   ],
   "source": [
    "1+22\n",
    "\n"
   ]
  },
  {
   "cell_type": "markdown",
   "id": "3f4686c3-8dae-4323-adab-2f0312a11e53",
   "metadata": {},
   "source": [
    "Numbers "
   ]
  },
  {
   "cell_type": "code",
   "execution_count": 3,
   "id": "fb6da8c2-f597-4f8c-a5f6-79c5d8aee846",
   "metadata": {},
   "outputs": [],
   "source": [
    "company = \"PWskls\"\n"
   ]
  },
  {
   "cell_type": "code",
   "execution_count": 4,
   "id": "a8ac9100-1f19-4b21-b5b6-2c1025786895",
   "metadata": {},
   "outputs": [
    {
     "name": "stdout",
     "output_type": "stream",
     "text": [
      "company :: PWskls\n"
     ]
    }
   ],
   "source": [
    "\n",
    "print(\"company :: {}\".format(company)) \n",
    " ## variable are case sensitive so wont pick up Company with \"C\" will give error\n"
   ]
  },
  {
   "cell_type": "code",
   "execution_count": 7,
   "id": "aaad4d40-4352-4348-9383-33f5d8dc73e4",
   "metadata": {},
   "outputs": [
    {
     "data": {
      "text/plain": [
       "True"
      ]
     },
     "execution_count": 7,
     "metadata": {},
     "output_type": "execute_result"
    }
   ],
   "source": [
    "#boolean\n",
    "True\n"
   ]
  },
  {
   "cell_type": "code",
   "execution_count": 8,
   "id": "a6aefcee-f8e0-4036-a0ea-cea31d4dbaab",
   "metadata": {},
   "outputs": [
    {
     "data": {
      "text/plain": [
       "True"
      ]
     },
     "execution_count": 8,
     "metadata": {},
     "output_type": "execute_result"
    }
   ],
   "source": [
    "True or False"
   ]
  },
  {
   "cell_type": "code",
   "execution_count": 10,
   "id": "2e86459f-376a-4bad-a606-883339053e59",
   "metadata": {},
   "outputs": [
    {
     "data": {
      "text/plain": [
       "False"
      ]
     },
     "execution_count": 10,
     "metadata": {},
     "output_type": "execute_result"
    }
   ],
   "source": [
    "True and False"
   ]
  },
  {
   "cell_type": "code",
   "execution_count": 5,
   "id": "e2e6fd88-1da7-4b10-ae99-96faec1b8b6d",
   "metadata": {},
   "outputs": [
    {
     "data": {
      "text/plain": [
       "False"
      ]
     },
     "execution_count": 5,
     "metadata": {},
     "output_type": "execute_result"
    }
   ],
   "source": [
    "not True"
   ]
  },
  {
   "cell_type": "code",
   "execution_count": 17,
   "id": "0ca670d8-ed51-41b9-b854-afcf3a251f23",
   "metadata": {},
   "outputs": [
    {
     "data": {
      "text/plain": [
       "bool"
      ]
     },
     "execution_count": 17,
     "metadata": {},
     "output_type": "execute_result"
    }
   ],
   "source": [
    "type(True)\n",
    "type(not True)"
   ]
  },
  {
   "cell_type": "code",
   "execution_count": 19,
   "id": "20a09679-b683-4f58-aa4c-c07944b4aa6d",
   "metadata": {},
   "outputs": [
    {
     "data": {
      "text/plain": [
       "False"
      ]
     },
     "execution_count": 19,
     "metadata": {},
     "output_type": "execute_result"
    }
   ],
   "source": [
    "type(1)\n",
    "bool(0)"
   ]
  },
  {
   "cell_type": "code",
   "execution_count": 24,
   "id": "ab5c6afc-effe-47c5-aac8-977c5107857f",
   "metadata": {},
   "outputs": [
    {
     "name": "stdout",
     "output_type": "stream",
     "text": [
      "FALSE\n"
     ]
    }
   ],
   "source": [
    "a=1\n",
    "if type(bool(a) == False): print(\"FALSE\")\n",
    "else : print(\" not false\")"
   ]
  },
  {
   "cell_type": "code",
   "execution_count": 25,
   "id": "3247df06-d296-4512-b100-7667ba3df4b7",
   "metadata": {},
   "outputs": [],
   "source": [
    "b=1\n",
    "if bool(b) == False : print(\"yes\")"
   ]
  },
  {
   "cell_type": "code",
   "execution_count": 26,
   "id": "4a709a5d-c5aa-4fd0-b2a7-1abb763a62c3",
   "metadata": {},
   "outputs": [
    {
     "data": {
      "text/plain": [
       "True"
      ]
     },
     "execution_count": 26,
     "metadata": {},
     "output_type": "execute_result"
    }
   ],
   "source": [
    "bool(b)\n"
   ]
  },
  {
   "cell_type": "code",
   "execution_count": 27,
   "id": "ba849a02-d886-4404-80dd-3a6401bca014",
   "metadata": {},
   "outputs": [
    {
     "name": "stdout",
     "output_type": "stream",
     "text": [
      "yes\n"
     ]
    }
   ],
   "source": [
    "if bool(b) == True : print(\"yes\")"
   ]
  },
  {
   "cell_type": "code",
   "execution_count": 30,
   "id": "2fcef568-eaca-4462-861c-c91a91aca616",
   "metadata": {},
   "outputs": [
    {
     "name": "stdout",
     "output_type": "stream",
     "text": [
      "35\n"
     ]
    },
    {
     "data": {
      "text/plain": [
       "'798'"
      ]
     },
     "execution_count": 30,
     "metadata": {},
     "output_type": "execute_result"
    }
   ],
   "source": [
    "#number to a string\n",
    "print(str(35)) \n",
    "sd=798\n",
    "str(sd)"
   ]
  },
  {
   "cell_type": "code",
   "execution_count": 31,
   "id": "835e8828-0140-4abf-9cd0-287ac340ee9c",
   "metadata": {},
   "outputs": [
    {
     "data": {
      "text/plain": [
       "1"
      ]
     },
     "execution_count": 31,
     "metadata": {},
     "output_type": "execute_result"
    }
   ],
   "source": [
    "int(1.88)"
   ]
  },
  {
   "cell_type": "code",
   "execution_count": 32,
   "id": "874a1fe6-0b35-4e52-b213-d2056a9e56ca",
   "metadata": {},
   "outputs": [
    {
     "data": {
      "text/plain": [
       "3"
      ]
     },
     "execution_count": 32,
     "metadata": {},
     "output_type": "execute_result"
    }
   ],
   "source": [
    "1+2\n"
   ]
  },
  {
   "cell_type": "code",
   "execution_count": 7,
   "id": "7a0d2f33-dbef-44f4-ad79-d450dbc86f70",
   "metadata": {},
   "outputs": [
    {
     "ename": "TypeError",
     "evalue": "can only concatenate str (not \"int\") to str",
     "output_type": "error",
     "traceback": [
      "\u001b[0;31m---------------------------------------------------------------------------\u001b[0m",
      "\u001b[0;31mTypeError\u001b[0m                                 Traceback (most recent call last)",
      "Cell \u001b[0;32mIn[7], line 1\u001b[0m\n\u001b[0;32m----> 1\u001b[0m \u001b[38;5;124;43m\"\u001b[39;49m\u001b[38;5;124;43m1\u001b[39;49m\u001b[38;5;124;43m\"\u001b[39;49m\u001b[38;5;241;43m+\u001b[39;49m\u001b[38;5;241;43m5\u001b[39;49m\n",
      "\u001b[0;31mTypeError\u001b[0m: can only concatenate str (not \"int\") to str"
     ]
    }
   ],
   "source": [
    "\"1\"+5\n"
   ]
  },
  {
   "cell_type": "code",
   "execution_count": 6,
   "id": "5367bdf8-edad-4bdb-b409-fd636ac222b0",
   "metadata": {},
   "outputs": [
    {
     "data": {
      "text/plain": [
       "'133'"
      ]
     },
     "execution_count": 6,
     "metadata": {},
     "output_type": "execute_result"
    }
   ],
   "source": [
    "\"1\"+\"33\""
   ]
  },
  {
   "cell_type": "code",
   "execution_count": 35,
   "id": "d01e2d1d-f856-4b68-8b19-5608be26cb2e",
   "metadata": {},
   "outputs": [
    {
     "data": {
      "text/plain": [
       "66"
      ]
     },
     "execution_count": 35,
     "metadata": {},
     "output_type": "execute_result"
    }
   ],
   "source": [
    "int(\"1\")+int(\"65\")"
   ]
  },
  {
   "cell_type": "code",
   "execution_count": 36,
   "id": "97050980-cc8b-41b5-8cfc-a16551af2061",
   "metadata": {},
   "outputs": [
    {
     "data": {
      "text/plain": [
       "46"
      ]
     },
     "execution_count": 36,
     "metadata": {},
     "output_type": "execute_result"
    }
   ],
   "source": [
    "int(\"1\")+45\n"
   ]
  },
  {
   "cell_type": "code",
   "execution_count": 41,
   "id": "2c2fb14f-b0ce-4bcb-967b-65353c056353",
   "metadata": {},
   "outputs": [
    {
     "name": "stdout",
     "output_type": "stream",
     "text": [
      "1\n",
      "1\n",
      "1\n"
     ]
    }
   ],
   "source": [
    "print(1*1)\n",
    "print(1*a)\n"
   ]
  },
  {
   "cell_type": "code",
   "execution_count": 43,
   "id": "65554a39-56ce-4ad0-9d4c-c27e3002fe5a",
   "metadata": {},
   "outputs": [
    {
     "name": "stdout",
     "output_type": "stream",
     "text": [
      "1\n"
     ]
    }
   ],
   "source": [
    "print(a*a)\n",
    "\n"
   ]
  },
  {
   "cell_type": "code",
   "execution_count": 44,
   "id": "2a14d067-dec8-4846-b8d6-45be54358455",
   "metadata": {},
   "outputs": [
    {
     "data": {
      "text/plain": [
       "'1111111111111111111111111111111111111111111111111111111111111111111111111111111111111111111111111111'"
      ]
     },
     "execution_count": 44,
     "metadata": {},
     "output_type": "execute_result"
    }
   ],
   "source": [
    "\"1\"*100"
   ]
  },
  {
   "cell_type": "code",
   "execution_count": 45,
   "id": "fe1923ae-4bca-4560-bcb2-0abd76cf442f",
   "metadata": {},
   "outputs": [
    {
     "ename": "TypeError",
     "evalue": "can't multiply sequence by non-int of type 'str'",
     "output_type": "error",
     "traceback": [
      "\u001b[0;31m---------------------------------------------------------------------------\u001b[0m",
      "\u001b[0;31mTypeError\u001b[0m                                 Traceback (most recent call last)",
      "Cell \u001b[0;32mIn[45], line 1\u001b[0m\n\u001b[0;32m----> 1\u001b[0m \u001b[38;5;124;43m\"\u001b[39;49m\u001b[38;5;124;43ma\u001b[39;49m\u001b[38;5;124;43m\"\u001b[39;49m\u001b[38;5;241;43m*\u001b[39;49m\u001b[38;5;124;43m\"\u001b[39;49m\u001b[38;5;124;43ma\u001b[39;49m\u001b[38;5;124;43m\"\u001b[39;49m\n",
      "\u001b[0;31mTypeError\u001b[0m: can't multiply sequence by non-int of type 'str'"
     ]
    }
   ],
   "source": [
    "\"a\"*\"a\""
   ]
  },
  {
   "cell_type": "code",
   "execution_count": 46,
   "id": "e47036d6-25b3-4c91-83bf-650328293033",
   "metadata": {},
   "outputs": [
    {
     "data": {
      "text/plain": [
       "1"
      ]
     },
     "execution_count": 46,
     "metadata": {},
     "output_type": "execute_result"
    }
   ],
   "source": [
    "a*a\n"
   ]
  },
  {
   "cell_type": "code",
   "execution_count": null,
   "id": "3f5be688-95ed-4e6a-ac6c-f3e14b0b1100",
   "metadata": {},
   "outputs": [],
   "source": []
  }
 ],
 "metadata": {
  "kernelspec": {
   "display_name": "Python 3 (ipykernel)",
   "language": "python",
   "name": "python3"
  },
  "language_info": {
   "codemirror_mode": {
    "name": "ipython",
    "version": 3
   },
   "file_extension": ".py",
   "mimetype": "text/x-python",
   "name": "python",
   "nbconvert_exporter": "python",
   "pygments_lexer": "ipython3",
   "version": "3.10.8"
  }
 },
 "nbformat": 4,
 "nbformat_minor": 5
}
