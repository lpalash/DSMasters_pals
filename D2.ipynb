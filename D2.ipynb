{
 "cells": [
  {
   "cell_type": "code",
   "execution_count": 6,
   "id": "3f74caa4-97b3-4f71-8ebe-0dd46d368198",
   "metadata": {},
   "outputs": [
    {
     "name": "stdout",
     "output_type": "stream",
     "text": [
      "company PWWWWSSSilllls \n",
      "company {company}\n",
      "company is PWWWWSSSilllls \n",
      "company :: PWWWWSSSilllls \n",
      "company :: PWWWWSSSilllls \n"
     ]
    }
   ],
   "source": [
    "company = \"PWWWWSSSilllls \"\n",
    "print(\"company\",company)\n",
    "print(\"company {company}\")  ## wwill not rint the value here\n",
    "print(f\"company is {company}\") #fstring\n",
    "print(\"company :: {}\".format(company))\n",
    "print(\"company :: {abc}\".format(abc = company))"
   ]
  },
  {
   "cell_type": "code",
   "execution_count": 8,
   "id": "6d744c56-b191-45ba-993e-90fba66610e9",
   "metadata": {},
   "outputs": [
    {
     "name": "stdout",
     "output_type": "stream",
     "text": [
      "my name is Palash and I have comleted : my degree of MBA at the age of 32\n",
      "my name is Palash and I have comleted : my degree of MBA at the age of 32\n",
      "my name is Palash and I have comleted : my degree of MBA at the age of 32\n"
     ]
    }
   ],
   "source": [
    "name = \"Palash\"\n",
    "age = 32\n",
    "degree = \"MBA\"\n",
    "print(f'my name is {name} and I have comleted : my degree of {degree} at the age of {age}')\n",
    "print(\"my name is {} and I have comleted : my degree of {} at the age of {}\".format(name,degree, age))\n",
    "print(\"my name is {p} and I have comleted : my degree of {d} at the age of {a}\".format(p=name,d=degree,a= age))\n",
    "\n",
    "      "
   ]
  },
  {
   "cell_type": "code",
   "execution_count": 9,
   "id": "9917cb11-08ac-4d10-8adf-f123fadee474",
   "metadata": {},
   "outputs": [
    {
     "name": "stdin",
     "output_type": "stream",
     "text": [
      "enter your age 44\n"
     ]
    },
    {
     "name": "stdout",
     "output_type": "stream",
     "text": [
      "You are young blood\n"
     ]
    }
   ],
   "source": [
    "#input of age\n",
    "age=int(input('enter your age'))\n",
    "if age>=18 and age<=45:\n",
    "    print('You are young blood')\n",
    "    "
   ]
  },
  {
   "cell_type": "code",
   "execution_count": 14,
   "id": "fab54b67-1e20-4f01-a172-09686b474e26",
   "metadata": {},
   "outputs": [
    {
     "name": "stdin",
     "output_type": "stream",
     "text": [
      "enter roduct rice 1999\n"
     ]
    },
    {
     "name": "stdout",
     "output_type": "stream",
     "text": [
      "additional gift\n",
      "20% discount1599.2\n"
     ]
    }
   ],
   "source": [
    "price = int(input(\"enter roduct rice\"))\n",
    "if price>1000 and price <= 2000:\n",
    "    if price ==1999:\n",
    "        print(\"additional gift\")\n",
    "    print(f\"20% discount{0.8*price}\")\n",
    "elif price >2000 :\n",
    "    print(\"22\")\n",
    "\n",
    "else:\n",
    "    print(\"30 disc {}\".format(price*0.7))"
   ]
  },
  {
   "cell_type": "code",
   "execution_count": 11,
   "id": "88b373b0-adeb-4955-948b-785c3082ce5a",
   "metadata": {},
   "outputs": [
    {
     "name": "stdout",
     "output_type": "stream",
     "text": [
      "company :: PWWskilllllllzzzz\n"
     ]
    }
   ],
   "source": [
    "company = \"PWWskilllllllzzzz\"\n",
    "print(\"company :: {}\".format(company)) ## variable are case sensitive so wont pick up"
   ]
  },
  {
   "cell_type": "code",
   "execution_count": 14,
   "id": "11b63979-757c-48b1-aa52-dff65c7de7a4",
   "metadata": {},
   "outputs": [
    {
     "name": "stdout",
     "output_type": "stream",
     "text": [
      "57\n",
      "58\n",
      "59\n",
      "60\n",
      "61\n",
      "its time for retirement\n"
     ]
    }
   ],
   "source": [
    "#while loop\n",
    "date=56\n",
    "while date<=60:\n",
    "    date = date+1\n",
    "    print(date)\n",
    "else: print(\"its time for retirement\")"
   ]
  },
  {
   "cell_type": "code",
   "execution_count": 16,
   "id": "db0c3ec9-060f-493a-acb6-90eaa9a91339",
   "metadata": {},
   "outputs": [
    {
     "name": "stdout",
     "output_type": "stream",
     "text": [
      "900\n",
      "800\n",
      "700\n",
      "600\n",
      "500\n",
      "400\n",
      "300\n",
      "200\n",
      "100\n",
      "0\n",
      "no money\n"
     ]
    }
   ],
   "source": [
    "amt=1000\n",
    "while amt != 0:\n",
    "    amt = amt - 100\n",
    "    print(amt)\n",
    "else: print(\"no money\")"
   ]
  },
  {
   "cell_type": "code",
   "execution_count": 24,
   "id": "db467d3d-5075-4cc2-8616-a4f0b5cfc588",
   "metadata": {},
   "outputs": [
    {
     "name": "stdout",
     "output_type": "stream",
     "text": [
      "1 56 897 w its w\n",
      "pals "
     ]
    }
   ],
   "source": [
    "#for loop\n",
    "list1=[1,56,897,'w',\"pals\"]\n",
    "for x in list1: \n",
    "    print(x, end =' ')  #for outut in same linne\n",
    "    if x == \"w\" : print( 'its w')"
   ]
  },
  {
   "cell_type": "code",
   "execution_count": 25,
   "id": "8695e0fc-d273-4c25-ae59-bf184bbd78c5",
   "metadata": {},
   "outputs": [],
   "source": [
    "#nested loops "
   ]
  },
  {
   "cell_type": "code",
   "execution_count": 26,
   "id": "19f2da99-11dd-4e2d-9bf8-9ede1c7fecd5",
   "metadata": {},
   "outputs": [
    {
     "data": {
      "text/plain": [
       "range(1, 9)"
      ]
     },
     "execution_count": 26,
     "metadata": {},
     "output_type": "execute_result"
    }
   ],
   "source": [
    "range(1,9)"
   ]
  },
  {
   "cell_type": "code",
   "execution_count": 28,
   "id": "fb8a38f1-09ac-487c-ad0f-27e123c13d7d",
   "metadata": {},
   "outputs": [
    {
     "name": "stdout",
     "output_type": "stream",
     "text": [
      "1\n",
      "2\n",
      "3\n"
     ]
    }
   ],
   "source": [
    "for i in range(1,4):print(i)"
   ]
  },
  {
   "cell_type": "code",
   "execution_count": 6,
   "id": "e90e6051-b09a-42be-9b1b-fdcdc164f57a",
   "metadata": {},
   "outputs": [
    {
     "name": "stdout",
     "output_type": "stream",
     "text": [
      "\n",
      "*\n",
      "**\n",
      "***\n",
      "****\n"
     ]
    }
   ],
   "source": [
    "#to print * in right angled triangle design using Nested Loops examle\n",
    "n=5\n",
    "for i in range(0,n):\n",
    "    for j in range(0,i):\n",
    "        print(\"*\",end=\"\")\n",
    "        \n",
    "    print(\"\\r\")"
   ]
  },
  {
   "cell_type": "code",
   "execution_count": 7,
   "id": "88abcecc-2e77-4455-898f-e9c8bb628cd9",
   "metadata": {},
   "outputs": [],
   "source": [
    "flist=[\"asd\",\"as\",\"aa\",\"re\"]"
   ]
  },
  {
   "cell_type": "code",
   "execution_count": 11,
   "id": "670a8035-5456-489d-b865-9f18a627e4a8",
   "metadata": {},
   "outputs": [
    {
     "name": "stdout",
     "output_type": "stream",
     "text": [
      "asd\n",
      "it is as\n",
      "as\n",
      "aa\n",
      "re\n"
     ]
    }
   ],
   "source": [
    "for i in flist:\n",
    "    if i==\"as\":\n",
    "        print(\"it is as\")\n",
    "    print(i)"
   ]
  },
  {
   "cell_type": "code",
   "execution_count": 12,
   "id": "1c173670-17e7-4920-b6aa-62e68c070825",
   "metadata": {},
   "outputs": [
    {
     "name": "stdout",
     "output_type": "stream",
     "text": [
      "asd\n",
      "it is as\n"
     ]
    }
   ],
   "source": [
    "for i in flist:\n",
    "    if i==\"as\":\n",
    "        print(\"it is as\")\n",
    "        break\n",
    "    print(i)"
   ]
  },
  {
   "cell_type": "code",
   "execution_count": 13,
   "id": "70178ba9-2fa3-4c84-aa6e-742de9eb757f",
   "metadata": {},
   "outputs": [
    {
     "name": "stdout",
     "output_type": "stream",
     "text": [
      "asd\n",
      "it is as\n",
      "as\n",
      "aa\n",
      "re\n"
     ]
    }
   ],
   "source": [
    "for i in flist:\n",
    "    if i==\"as\":\n",
    "        print(\"it is as\")\n",
    "        pass\n",
    "\n",
    "    print(i)"
   ]
  },
  {
   "cell_type": "code",
   "execution_count": 14,
   "id": "0b69febc-83df-4c92-8152-a1dce73e2664",
   "metadata": {},
   "outputs": [
    {
     "name": "stdout",
     "output_type": "stream",
     "text": [
      "asd\n",
      "it is as\n",
      "aa\n",
      "re\n"
     ]
    }
   ],
   "source": [
    "for i in flist:\n",
    "    if i==\"as\":\n",
    "        print(\"it is as\")\n",
    "        continue\n",
    "    print(i)"
   ]
  },
  {
   "cell_type": "code",
   "execution_count": null,
   "id": "62176d74-84a1-43ae-811e-9f09cd01a938",
   "metadata": {},
   "outputs": [],
   "source": []
  }
 ],
 "metadata": {
  "kernelspec": {
   "display_name": "Python 3 (ipykernel)",
   "language": "python",
   "name": "python3"
  },
  "language_info": {
   "codemirror_mode": {
    "name": "ipython",
    "version": 3
   },
   "file_extension": ".py",
   "mimetype": "text/x-python",
   "name": "python",
   "nbconvert_exporter": "python",
   "pygments_lexer": "ipython3",
   "version": "3.10.8"
  }
 },
 "nbformat": 4,
 "nbformat_minor": 5
}
